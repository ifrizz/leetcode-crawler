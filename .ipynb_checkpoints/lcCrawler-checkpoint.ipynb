{
 "cells": [
  {
   "cell_type": "code",
   "execution_count": 21,
   "metadata": {
    "collapsed": false
   },
   "outputs": [],
   "source": [
    "import requests\n",
    "from bs4 import BeautifulSoup\n",
    "\n",
    "import html2text\n",
    "\n",
    "\n",
    "class lcCrawler:\n",
    "    def __init__(self, url):\n",
    "        baseUrl = \"https://leetcode.com\"\n",
    "        self.url = baseUrl + url\n",
    "        self.getSoup();\n",
    "    \n",
    "    def getSoup(self):\n",
    "        response = requests.get(self.url)\n",
    "        self.soup = BeautifulSoup(response.text, \"lxml\")\n",
    "    \n",
    "    def getQuestionLines(self):\n",
    "        question_div = self.soup.find(\"div\", class_=\"question-content\")\n",
    "        questionsLines = filter(lambda x: x != u\"\\n\", question_div.contents)\n",
    "        mdLines = []\n",
    "        for line in questionsLines[:-3]:\n",
    "            mdLines.append(html2text.html2text(str(line)).strip())\n",
    "        return mdLines\n",
    "\n",
    "    def getName(self):\n",
    "        h3 = self.soup.find(\"h3\").text\n",
    "        return h3[h3.find(\" \")+1:]\n"
   ]
  },
  {
   "cell_type": "code",
   "execution_count": 22,
   "metadata": {
    "collapsed": false
   },
   "outputs": [
    {
     "data": {
      "text/plain": [
       "u'Longest Substring Without Repeating Characters'"
      ]
     },
     "execution_count": 22,
     "metadata": {},
     "output_type": "execute_result"
    }
   ],
   "source": [
    "url = \"/problems/longest-substring-without-repeating-characters/\"\n",
    "\n",
    "c = lcCrawler(url)\n",
    "c.getName()"
   ]
  },
  {
   "cell_type": "code",
   "execution_count": 23,
   "metadata": {
    "collapsed": false
   },
   "outputs": [
    {
     "name": "stdout",
     "output_type": "stream",
     "text": [
      "\n",
      "Given a string, find the length of the **longest substring** without repeating\n",
      "characters.\n",
      "**Examples:**\n",
      "Given `\"abcabcbb\"`, the answer is `\"abc\"`, which the length is 3.\n",
      "Given `\"bbbbb\"`, the answer is `\"b\"`, with the length of 1.\n",
      "Given `\"pwwkew\"`, the answer is `\"wke\"`, with the length of 3. Note that the\n",
      "answer must be a **substring**, `\"pwke\"` is a _subsequence_ and not a\n",
      "substring.\n"
     ]
    }
   ],
   "source": [
    "for line in c.getQuestionLines():\n",
    "    print line"
   ]
  },
  {
   "cell_type": "code",
   "execution_count": null,
   "metadata": {
    "collapsed": true
   },
   "outputs": [],
   "source": []
  }
 ],
 "metadata": {
  "kernelspec": {
   "display_name": "Python 2",
   "language": "python",
   "name": "python2"
  },
  "language_info": {
   "codemirror_mode": {
    "name": "ipython",
    "version": 2
   },
   "file_extension": ".py",
   "mimetype": "text/x-python",
   "name": "python",
   "nbconvert_exporter": "python",
   "pygments_lexer": "ipython2",
   "version": "2.7.11"
  }
 },
 "nbformat": 4,
 "nbformat_minor": 0
}

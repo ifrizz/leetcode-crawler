{
 "cells": [
  {
   "cell_type": "markdown",
   "metadata": {},
   "source": [
    "# Generate Markdown file\n",
    "\n",
    "Format\n",
    "\n",
    "\n",
    "    # TITLE\n",
    "\n",
    "    [TOC]\n",
    "\n",
    "    ## [001. QUESTION NAME](QUESTION URL)\n",
    "\n",
    "    > QUESTION DESCRIPTION LINE 1\n",
    "    > QUESTION DESCRIPTION LINE 2\n",
    "\n",
    "\n",
    "    ```\n",
    "    @NAME: WRITE YOUR CODE HERE. (RANDOM)\n",
    "    ```\n",
    "\n"
   ]
  },
  {
   "cell_type": "code",
   "execution_count": 40,
   "metadata": {
    "collapsed": false
   },
   "outputs": [],
   "source": [
    "FILE_NAME = \"呆毛算法小分队 Week 1\"\n",
    "QUESTION_LIST = [\"020\", \"002\", \"150\", \"005\"]\n",
    "TEAM_MEMBER = [\"Weichen\", \"Cecilia\", \"WenXin\", \"Xinyi\", \"Chris\", \"Laijie\"]\n",
    "\n",
    "import lcCrawler\n",
    "import pickle, random\n",
    "\n",
    "class writeMD():\n",
    "    def __init__(self):\n",
    "        self.problemLink = pickle.load(open(\"utils/problemLink.pk\", \"r\"))\n",
    "        self.name = TEAM_MEMBER\n",
    "        random.shuffle(self.name)\n",
    "        self.getNameCount = 0\n",
    "    \n",
    "    def getProblem(self, num):\n",
    "        url, isPremium = self.problemLink[num]\n",
    "        c = lcCrawler.lcCrawler(url)\n",
    "        return (url, c.getName(), c.getQuestionLines(), isPremium)\n",
    "    \n",
    "    def getName(self):\n",
    "        index = self.getNameCount % len(self.name)\n",
    "        self.getNameCount += 1\n",
    "        return self.name[index]\n",
    "        \n",
    "        \n",
    "    def write(self):\n",
    "        f = open(FILE_NAME + \".md\", 'w')\n",
    "        f.write(\"# \" + FILE_NAME + \"\\n\\n\")\n",
    "        f.write(\"[TOC] \\n\\n\")\n",
    "        for q in QUESTION_LIST:\n",
    "            url, name, lines, isPremium = self.getProblem(int(q))\n",
    "            if isPremium:\n",
    "                continue\n",
    "            f.write(\"## \"+ \"[\" + q + \". \" + name + \"](\" + \"https://leetcode.com\" + url + \")\\n\\n\")\n",
    "            for line in lines:\n",
    "                f.write(\"> \" + line + \"\\n\")\n",
    "            f.write(\"\\n\\n```\\n@\" + self.getName() + \" WRITE YOUR CODE HERE.\\n\\n\" + \"```\\n\\n\")\n",
    "        f.close()"
   ]
  },
  {
   "cell_type": "code",
   "execution_count": 41,
   "metadata": {
    "collapsed": true
   },
   "outputs": [],
   "source": [
    "def main():\n",
    "    w = writeMD()\n",
    "    w.write()"
   ]
  },
  {
   "cell_type": "code",
   "execution_count": 42,
   "metadata": {
    "collapsed": true
   },
   "outputs": [],
   "source": [
    "if __name__ == \"__main__\":\n",
    "    main()"
   ]
  },
  {
   "cell_type": "code",
   "execution_count": null,
   "metadata": {
    "collapsed": true
   },
   "outputs": [],
   "source": []
  }
 ],
 "metadata": {
  "kernelspec": {
   "display_name": "Python 2",
   "language": "python",
   "name": "python2"
  },
  "language_info": {
   "codemirror_mode": {
    "name": "ipython",
    "version": 2
   },
   "file_extension": ".py",
   "mimetype": "text/x-python",
   "name": "python",
   "nbconvert_exporter": "python",
   "pygments_lexer": "ipython2",
   "version": "2.7.11"
  }
 },
 "nbformat": 4,
 "nbformat_minor": 0
}

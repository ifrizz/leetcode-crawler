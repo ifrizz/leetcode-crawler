{
 "cells": [
  {
   "cell_type": "code",
   "execution_count": 5,
   "metadata": {
    "collapsed": false
   },
   "outputs": [
    {
     "data": {
      "text/plain": [
       "<Response [200]>"
      ]
     },
     "execution_count": 5,
     "metadata": {},
     "output_type": "execute_result"
    }
   ],
   "source": [
    "import requests\n",
    "from bs4 import BeautifulSoup\n",
    "\n",
    "class lcCrawler:\n",
    "    def __init__(self, url):\n",
    "        self.baseUrl = \"https://leetcode.com\"\n",
    "        self.url = url\n",
    "        getSoup();\n",
    "    \n",
    "    def getSoup():\n",
    "        response = requests.get(url)\n",
    "        self.soup = BeautifulSoup(response.text, \"lxml\")\n",
    "    \n",
    "    def getProblem\n",
    "    \n",
    "    def getName():\n",
    "    \n",
    "url = \"https://leetcode.com/problems/longest-substring-without-repeating-characters/\"\n",
    "response"
   ]
  },
  {
   "cell_type": "code",
   "execution_count": 7,
   "metadata": {
    "collapsed": false
   },
   "outputs": [],
   "source": [
    "html = response.text"
   ]
  },
  {
   "cell_type": "code",
   "execution_count": 9,
   "metadata": {
    "collapsed": false
   },
   "outputs": [],
   "source": [
    "soup = BeautifulSoup(html, \"lxml\")"
   ]
  },
  {
   "cell_type": "code",
   "execution_count": 11,
   "metadata": {
    "collapsed": false
   },
   "outputs": [
    {
     "data": {
      "text/plain": [
       "u'3. Longest Substring Without Repeating Characters'"
      ]
     },
     "execution_count": 11,
     "metadata": {},
     "output_type": "execute_result"
    }
   ],
   "source": [
    "h3 = soup.find(\"h3\").text\n",
    "h3"
   ]
  },
  {
   "cell_type": "code",
   "execution_count": 24,
   "metadata": {
    "collapsed": false
   },
   "outputs": [
    {
     "data": {
      "text/plain": [
       "<div class=\"question-content\">\\n<p></p><p>Given a string, find the length of the <b>longest substring</b> without repeating characters.</p>\\n<p><b>Examples:</b></p>\\n<p>Given <code>\"abcabcbb\"</code>, the answer is <code>\"abc\"</code>, which the length is 3.</p>\\n<p>Given <code>\"bbbbb\"</code>, the answer is <code>\"b\"</code>, with the length of 1.</p>\\n<p>Given <code>\"pwwkew\"</code>, the answer is <code>\"wke\"</code>, with the length of 3. Note that the answer must be a <b>substring</b>, <code>\"pwke\"</code> is a <i>subsequence</i> and not a substring.</p>\\n<div>\\n<p><a href=\"/subscribe/\">Subscribe</a> to see which companies asked this question</p>\\n</div>\\n<div>\\n<div class=\"btn btn-xs btn-warning\" id=\"tags\">Show Tags</div>\\n<span class=\"hidebutton\">\\n<a class=\"btn btn-xs btn-primary\" href=\"/tag/hash-table/\">Hash Table</a>\\n<a class=\"btn btn-xs btn-primary\" href=\"/tag/two-pointers/\">Two Pointers</a>\\n<a class=\"btn btn-xs btn-primary\" href=\"/tag/string/\">String</a>\\n</span>\\n</div>\\n<div>\\n<div class=\"btn btn-xs btn-warning\" id=\"similar\">Show Similar Problems</div>\\n<span class=\"hidebutton\">\\n<a class=\"btn btn-xs btn-primary\" href=\"/problems/longest-substring-with-at-most-two-distinct-characters/\"> (H) Longest Substring with At Most Two Distinct Characters</a>\\n</span>\\n</div>\\n</div>"
      ]
     },
     "execution_count": 24,
     "metadata": {},
     "output_type": "execute_result"
    }
   ],
   "source": [
    "question_div = soup.find(\"div\", class_=\"question-content\")\n",
    "question_div"
   ]
  },
  {
   "cell_type": "code",
   "execution_count": 34,
   "metadata": {
    "collapsed": false
   },
   "outputs": [
    {
     "data": {
      "text/plain": [
       "[u'\\n',\n",
       " <p></p>,\n",
       " <p>Given a string, find the length of the <b>longest substring</b> without repeating characters.</p>,\n",
       " u'\\n',\n",
       " <p><b>Examples:</b></p>,\n",
       " u'\\n',\n",
       " <p>Given <code>\"abcabcbb\"</code>, the answer is <code>\"abc\"</code>, which the length is 3.</p>,\n",
       " u'\\n',\n",
       " <p>Given <code>\"bbbbb\"</code>, the answer is <code>\"b\"</code>, with the length of 1.</p>,\n",
       " u'\\n',\n",
       " <p>Given <code>\"pwwkew\"</code>, the answer is <code>\"wke\"</code>, with the length of 3. Note that the answer must be a <b>substring</b>, <code>\"pwke\"</code> is a <i>subsequence</i> and not a substring.</p>,\n",
       " u'\\n',\n",
       " <div>\\n<p><a href=\"/subscribe/\">Subscribe</a> to see which companies asked this question</p>\\n</div>,\n",
       " u'\\n',\n",
       " <div>\\n<div class=\"btn btn-xs btn-warning\" id=\"tags\">Show Tags</div>\\n<span class=\"hidebutton\">\\n<a class=\"btn btn-xs btn-primary\" href=\"/tag/hash-table/\">Hash Table</a>\\n<a class=\"btn btn-xs btn-primary\" href=\"/tag/two-pointers/\">Two Pointers</a>\\n<a class=\"btn btn-xs btn-primary\" href=\"/tag/string/\">String</a>\\n</span>\\n</div>,\n",
       " u'\\n',\n",
       " <div>\\n<div class=\"btn btn-xs btn-warning\" id=\"similar\">Show Similar Problems</div>\\n<span class=\"hidebutton\">\\n<a class=\"btn btn-xs btn-primary\" href=\"/problems/longest-substring-with-at-most-two-distinct-characters/\"> (H) Longest Substring with At Most Two Distinct Characters</a>\\n</span>\\n</div>,\n",
       " u'\\n']"
      ]
     },
     "execution_count": 34,
     "metadata": {},
     "output_type": "execute_result"
    }
   ],
   "source": [
    "questionsLines = question_div.contents\n",
    "questionsLines"
   ]
  },
  {
   "cell_type": "code",
   "execution_count": 47,
   "metadata": {
    "collapsed": false
   },
   "outputs": [
    {
     "data": {
      "text/plain": [
       "[<p></p>,\n",
       " <p>Given a string, find the length of the <b>longest substring</b> without repeating characters.</p>,\n",
       " <p><b>Examples:</b></p>,\n",
       " <p>Given <code>\"abcabcbb\"</code>, the answer is <code>\"abc\"</code>, which the length is 3.</p>,\n",
       " <p>Given <code>\"bbbbb\"</code>, the answer is <code>\"b\"</code>, with the length of 1.</p>,\n",
       " <p>Given <code>\"pwwkew\"</code>, the answer is <code>\"wke\"</code>, with the length of 3. Note that the answer must be a <b>substring</b>, <code>\"pwke\"</code> is a <i>subsequence</i> and not a substring.</p>,\n",
       " <div>\\n<p><a href=\"/subscribe/\">Subscribe</a> to see which companies asked this question</p>\\n</div>,\n",
       " <div>\\n<div class=\"btn btn-xs btn-warning\" id=\"tags\">Show Tags</div>\\n<span class=\"hidebutton\">\\n<a class=\"btn btn-xs btn-primary\" href=\"/tag/hash-table/\">Hash Table</a>\\n<a class=\"btn btn-xs btn-primary\" href=\"/tag/two-pointers/\">Two Pointers</a>\\n<a class=\"btn btn-xs btn-primary\" href=\"/tag/string/\">String</a>\\n</span>\\n</div>,\n",
       " <div>\\n<div class=\"btn btn-xs btn-warning\" id=\"similar\">Show Similar Problems</div>\\n<span class=\"hidebutton\">\\n<a class=\"btn btn-xs btn-primary\" href=\"/problems/longest-substring-with-at-most-two-distinct-characters/\"> (H) Longest Substring with At Most Two Distinct Characters</a>\\n</span>\\n</div>]"
      ]
     },
     "execution_count": 47,
     "metadata": {},
     "output_type": "execute_result"
    }
   ],
   "source": [
    "questionsLines = filter(lambda x: x != u\"\\n\", questionsLines)\n",
    "questionsLines"
   ]
  },
  {
   "cell_type": "code",
   "execution_count": 61,
   "metadata": {
    "collapsed": false
   },
   "outputs": [
    {
     "data": {
      "text/plain": [
       "['\\n\\n',\n",
       " u'Given a string, find the length of the **longest substring** without repeating\\ncharacters.\\n\\n',\n",
       " u'**Examples:**\\n\\n',\n",
       " u'Given `\"abcabcbb\"`, the answer is `\"abc\"`, which the length is 3.\\n\\n',\n",
       " u'Given `\"bbbbb\"`, the answer is `\"b\"`, with the length of 1.\\n\\n',\n",
       " u'Given `\"pwwkew\"`, the answer is `\"wke\"`, with the length of 3. Note that the\\nanswer must be a **substring**, `\"pwke\"` is a _subsequence_ and not a\\nsubstring.\\n\\n']"
      ]
     },
     "execution_count": 61,
     "metadata": {},
     "output_type": "execute_result"
    }
   ],
   "source": [
    "import html2text\n",
    "md = []\n",
    "for line in questionsLines[:-3]:\n",
    "    md.append(html2text.html2text(str(line)))\n",
    "md"
   ]
  },
  {
   "cell_type": "code",
   "execution_count": 64,
   "metadata": {
    "collapsed": false
   },
   "outputs": [
    {
     "name": "stdout",
     "output_type": "stream",
     "text": [
      "\n",
      "Given a string, find the length of the **longest substring** without repeating\n",
      "characters.\n",
      "**Examples:**\n",
      "Given `\"abcabcbb\"`, the answer is `\"abc\"`, which the length is 3.\n",
      "Given `\"bbbbb\"`, the answer is `\"b\"`, with the length of 1.\n",
      "Given `\"pwwkew\"`, the answer is `\"wke\"`, with the length of 3. Note that the\n",
      "answer must be a **substring**, `\"pwke\"` is a _subsequence_ and not a\n",
      "substring.\n"
     ]
    }
   ],
   "source": [
    "for line in md:\n",
    "    print line.strip()"
   ]
  },
  {
   "cell_type": "code",
   "execution_count": null,
   "metadata": {
    "collapsed": true
   },
   "outputs": [],
   "source": []
  }
 ],
 "metadata": {
  "kernelspec": {
   "display_name": "Python 2",
   "language": "python",
   "name": "python2"
  },
  "language_info": {
   "codemirror_mode": {
    "name": "ipython",
    "version": 2
   },
   "file_extension": ".py",
   "mimetype": "text/x-python",
   "name": "python",
   "nbconvert_exporter": "python",
   "pygments_lexer": "ipython2",
   "version": "2.7.11"
  }
 },
 "nbformat": 4,
 "nbformat_minor": 0
}
